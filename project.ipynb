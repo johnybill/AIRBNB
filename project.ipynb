{
 "cells": [
  {
   "cell_type": "markdown",
   "metadata": {},
   "source": [
    "# PROJECT DATA MINING- AIRBNB"
   ]
  },
  {
   "cell_type": "markdown",
   "metadata": {},
   "source": [
    "link of Database :https://www.kaggle.com/brittabettendorf/berlin-airbnb-data"
   ]
  },
  {
   "cell_type": "markdown",
   "metadata": {},
   "source": [
    "# Business Understanding\n",
    "## Determine Business Objectives\n",
    "### Background \n",
    "\n",
    "In this project, we are a private individual who owns an apartment located in the city of Berlin and we often go on trips and we want to be able to make the purchase of the house profitable."
   ]
  },
  {
   "cell_type": "markdown",
   "metadata": {},
   "source": [
    "### Business Objectives \n",
    "\n",
    "The objective of our business is to rent our Berlin apartments using airBNB."
   ]
  },
  {
   "cell_type": "markdown",
   "metadata": {},
   "source": [
    "### Business Success criteria\n",
    "\n",
    "Success will depend on finding a price and frequency of visits that will maximize our profits when we leave."
   ]
  },
  {
   "cell_type": "markdown",
   "metadata": {},
   "source": [
    "## Assess situation \n",
    "### Inventory of ressources \n",
    "\n",
    "we have an apartment of 2 bedrooms, 4 beds, 1 bathroom, wifi, kitchen, microwave oven,3 accomodates, distance of center 3.52234\n",
    "amenities = 5\n",
    "requires_license = 1\n",
    "instant_bookable = 1\n",
    "guests_included = 1\n",
    "extra_people = 10\n",
    "require_guest_phone_verification = 0\n",
    "bathrooms = 1\n",
    "bedrooms = 2\n",
    "beds = 4\n",
    "accomodates = 3\n",
    "host_total_listings_count = 4\n",
    "host_has_profile_pic  = 1\n",
    "host_identity_verified = 1\n",
    "is_location_exact = 1\n",
    "host_is_superhost = 1\n",
    "minimum_nights = 2\n",
    "cancellation = \"cancellation_policy_moderate\"\n",
    "bed_type = \"bed_type_Real Bed\"\n",
    "property_type = \"property_type_Apartment\"\n",
    "room_type = \"room_type_Entire home/apt\"\n",
    "distance =3.52234"
   ]
  },
  {
   "cell_type": "markdown",
   "metadata": {},
   "source": [
    "### Requirements Assumptions & constraints\n",
    "it will be assumed that the individual cannot rent his house all year round. he lives in it, so we will have to try to maximize the period when he will be able to rent his apartment. \n"
   ]
  },
  {
   "cell_type": "markdown",
   "metadata": {},
   "source": [
    "### Risk and Contingencies \n",
    "\n",
    "The risks are to make our apartment too expensive and therefore not to rent it. There is also the price of real property which often moves so it is necessary to know how to adapt (for example since the crisis of covid-19, there is a strong chance that the price of an airbnb are less expensive so using the data before covid is less interesting)."
   ]
  },
  {
   "cell_type": "markdown",
   "metadata": {},
   "source": [
    "### Terminology "
   ]
  },
  {
   "cell_type": "markdown",
   "metadata": {},
   "source": [
    "### Costs and Benefits"
   ]
  },
  {
   "cell_type": "markdown",
   "metadata": {},
   "source": [
    "## Determine Data Mining Goals\n",
    "### Data Mining Goals\n",
    "\n",
    "The objective of Data Mining is to propose a rental price of the apartment per month in order to be almost sure that it will be rented."
   ]
  },
  {
   "cell_type": "markdown",
   "metadata": {},
   "source": [
    "### Data Mining Success Criteria\n",
    "\n",
    "Success will be measured by the margin of error between the prediction of the price and its true value."
   ]
  },
  {
   "cell_type": "markdown",
   "metadata": {},
   "source": [
    "## Produce Project Plan  \n",
    "### Project plan \n",
    "\n",
    "* Data Understanding\n",
    "    * collect intial Data\n",
    "    * Describe Data \n",
    "        * Data Description Report  \n",
    "        * listing\n",
    "    * Explore Data \n",
    "        * Data Exploration Report\n",
    "\n"
   ]
  },
  {
   "cell_type": "markdown",
   "metadata": {},
   "source": [
    "### Initial Assessment of tools, and techniques\n",
    "\n",
    "We are going to use a SVM that will predict the price we should put for our apartment based on the data we have."
   ]
  },
  {
   "cell_type": "markdown",
   "metadata": {},
   "source": [
    "# Data Understanding "
   ]
  },
  {
   "cell_type": "markdown",
   "metadata": {},
   "source": [
    "## Collect initial Data "
   ]
  },
  {
   "cell_type": "code",
   "execution_count": 42,
   "metadata": {},
   "outputs": [],
   "source": [
    "import numpy as np\n",
    "import pandas as pd\n",
    "import seaborn as sns\n",
    "import matplotlib.pyplot as plt\n",
    "plt.style.use('seaborn')\n",
    "\n",
    "from sklearn.model_selection import train_test_split\n",
    "from geopy.distance import great_circle\n",
    "from sklearn.ensemble import RandomForestRegressor\n",
    "from sklearn.linear_model import LinearRegression\n",
    "from sklearn.neural_network import MLPRegressor"
   ]
  },
  {
   "cell_type": "markdown",
   "metadata": {},
   "source": [
    "to help us in our analysis we have 6 databases on Airbnb:\n",
    "* calendar_summary.csv\n",
    "* listings.csv\n",
    "* listings_summary.csv\n",
    "* neighbourhoods.csv\n",
    "* review.csv\n",
    "* reviews_summary.csv"
   ]
  },
  {
   "cell_type": "markdown",
   "metadata": {},
   "source": [
    "## Describe Data \n",
    "### Data Description Report  \n",
    "#### listing\n",
    "\n",
    "\n",
    "This database contains the first information that can be found for each possible reservation proposal.\n",
    "\n",
    "This database is a part of the listing_summary database. \n",
    "\n",
    "\n"
   ]
  },
  {
   "cell_type": "code",
   "execution_count": 2,
   "metadata": {},
   "outputs": [
    {
     "name": "stdout",
     "output_type": "stream",
     "text": [
      "The dataset listing has 22552 rows and 16 columns.\n",
      "columns of database: Index(['id', 'name', 'host_id', 'host_name', 'neighbourhood_group',\n",
      "       'neighbourhood', 'latitude', 'longitude', 'room_type', 'price',\n",
      "       'minimum_nights', 'number_of_reviews', 'last_review',\n",
      "       'reviews_per_month', 'calculated_host_listings_count',\n",
      "       'availability_365'],\n",
      "      dtype='object')\n"
     ]
    }
   ],
   "source": [
    "# read \n",
    "listing = pd.read_csv(\"./data/listings.csv\", delimiter = ',')\n",
    "# checking shape\n",
    "print(\"The dataset listing has {} rows and {} columns.\".format(*listing.shape))\n",
    "\n",
    "# check the columns we currently have\n",
    "print(\"columns of database: {}\".format(listing.columns))"
   ]
  },
  {
   "cell_type": "markdown",
   "metadata": {},
   "source": [
    "#### listing_summary \n",
    "\n",
    "\n",
    "\n",
    "In this database you will find all the information related to the booking proposal. \n",
    "\n",
    "Each id represents a possible reservation with all its information."
   ]
  },
  {
   "cell_type": "code",
   "execution_count": 3,
   "metadata": {},
   "outputs": [
    {
     "name": "stdout",
     "output_type": "stream",
     "text": [
      "The dataset listing_summary has 22552 rows and 96 columns.\n",
      "columns of database: Index(['id', 'listing_url', 'scrape_id', 'last_scraped', 'name', 'summary',\n",
      "       'space', 'description', 'experiences_offered', 'neighborhood_overview',\n",
      "       'notes', 'transit', 'access', 'interaction', 'house_rules',\n",
      "       'thumbnail_url', 'medium_url', 'picture_url', 'xl_picture_url',\n",
      "       'host_id', 'host_url', 'host_name', 'host_since', 'host_location',\n",
      "       'host_about', 'host_response_time', 'host_response_rate',\n",
      "       'host_acceptance_rate', 'host_is_superhost', 'host_thumbnail_url',\n",
      "       'host_picture_url', 'host_neighbourhood', 'host_listings_count',\n",
      "       'host_total_listings_count', 'host_verifications',\n",
      "       'host_has_profile_pic', 'host_identity_verified', 'street',\n",
      "       'neighbourhood', 'neighbourhood_cleansed',\n",
      "       'neighbourhood_group_cleansed', 'city', 'state', 'zipcode', 'market',\n",
      "       'smart_location', 'country_code', 'country', 'latitude', 'longitude',\n",
      "       'is_location_exact', 'property_type', 'room_type', 'accommodates',\n",
      "       'bathrooms', 'bedrooms', 'beds', 'bed_type', 'amenities', 'square_feet',\n",
      "       'price', 'weekly_price', 'monthly_price', 'security_deposit',\n",
      "       'cleaning_fee', 'guests_included', 'extra_people', 'minimum_nights',\n",
      "       'maximum_nights', 'calendar_updated', 'has_availability',\n",
      "       'availability_30', 'availability_60', 'availability_90',\n",
      "       'availability_365', 'calendar_last_scraped', 'number_of_reviews',\n",
      "       'first_review', 'last_review', 'review_scores_rating',\n",
      "       'review_scores_accuracy', 'review_scores_cleanliness',\n",
      "       'review_scores_checkin', 'review_scores_communication',\n",
      "       'review_scores_location', 'review_scores_value', 'requires_license',\n",
      "       'license', 'jurisdiction_names', 'instant_bookable',\n",
      "       'is_business_travel_ready', 'cancellation_policy',\n",
      "       'require_guest_profile_picture', 'require_guest_phone_verification',\n",
      "       'calculated_host_listings_count', 'reviews_per_month'],\n",
      "      dtype='object')\n"
     ]
    },
    {
     "data": {
      "text/html": [
       "<div>\n",
       "<style scoped>\n",
       "    .dataframe tbody tr th:only-of-type {\n",
       "        vertical-align: middle;\n",
       "    }\n",
       "\n",
       "    .dataframe tbody tr th {\n",
       "        vertical-align: top;\n",
       "    }\n",
       "\n",
       "    .dataframe thead th {\n",
       "        text-align: right;\n",
       "    }\n",
       "</style>\n",
       "<table border=\"1\" class=\"dataframe\">\n",
       "  <thead>\n",
       "    <tr style=\"text-align: right;\">\n",
       "      <th></th>\n",
       "      <th>id</th>\n",
       "      <th>listing_url</th>\n",
       "      <th>scrape_id</th>\n",
       "      <th>last_scraped</th>\n",
       "      <th>name</th>\n",
       "      <th>summary</th>\n",
       "      <th>space</th>\n",
       "      <th>description</th>\n",
       "      <th>experiences_offered</th>\n",
       "      <th>neighborhood_overview</th>\n",
       "      <th>...</th>\n",
       "      <th>requires_license</th>\n",
       "      <th>license</th>\n",
       "      <th>jurisdiction_names</th>\n",
       "      <th>instant_bookable</th>\n",
       "      <th>is_business_travel_ready</th>\n",
       "      <th>cancellation_policy</th>\n",
       "      <th>require_guest_profile_picture</th>\n",
       "      <th>require_guest_phone_verification</th>\n",
       "      <th>calculated_host_listings_count</th>\n",
       "      <th>reviews_per_month</th>\n",
       "    </tr>\n",
       "  </thead>\n",
       "  <tbody>\n",
       "    <tr>\n",
       "      <th>0</th>\n",
       "      <td>2015</td>\n",
       "      <td>https://www.airbnb.com/rooms/2015</td>\n",
       "      <td>20181107122246</td>\n",
       "      <td>2018-11-07</td>\n",
       "      <td>Berlin-Mitte Value! Quiet courtyard/very central</td>\n",
       "      <td>Great location!  30 of 75 sq meters. This wood...</td>\n",
       "      <td>A+++ location! This „Einliegerwohnung“ is an e...</td>\n",
       "      <td>Great location!  30 of 75 sq meters. This wood...</td>\n",
       "      <td>none</td>\n",
       "      <td>It is located in the former East Berlin area o...</td>\n",
       "      <td>...</td>\n",
       "      <td>t</td>\n",
       "      <td>NaN</td>\n",
       "      <td>NaN</td>\n",
       "      <td>f</td>\n",
       "      <td>f</td>\n",
       "      <td>strict_14_with_grace_period</td>\n",
       "      <td>f</td>\n",
       "      <td>f</td>\n",
       "      <td>4</td>\n",
       "      <td>3.76</td>\n",
       "    </tr>\n",
       "    <tr>\n",
       "      <th>1</th>\n",
       "      <td>2695</td>\n",
       "      <td>https://www.airbnb.com/rooms/2695</td>\n",
       "      <td>20181107122246</td>\n",
       "      <td>2018-11-07</td>\n",
       "      <td>Prenzlauer Berg close to Mauerpark</td>\n",
       "      <td>NaN</td>\n",
       "      <td>In the summertime we are spending most of our ...</td>\n",
       "      <td>In the summertime we are spending most of our ...</td>\n",
       "      <td>none</td>\n",
       "      <td>NaN</td>\n",
       "      <td>...</td>\n",
       "      <td>t</td>\n",
       "      <td>NaN</td>\n",
       "      <td>NaN</td>\n",
       "      <td>f</td>\n",
       "      <td>f</td>\n",
       "      <td>flexible</td>\n",
       "      <td>f</td>\n",
       "      <td>f</td>\n",
       "      <td>1</td>\n",
       "      <td>1.42</td>\n",
       "    </tr>\n",
       "    <tr>\n",
       "      <th>2</th>\n",
       "      <td>3176</td>\n",
       "      <td>https://www.airbnb.com/rooms/3176</td>\n",
       "      <td>20181107122246</td>\n",
       "      <td>2018-11-07</td>\n",
       "      <td>Fabulous Flat in great Location</td>\n",
       "      <td>This beautiful first floor apartment  is situa...</td>\n",
       "      <td>1st floor (68m2) apartment on Kollwitzplatz/ P...</td>\n",
       "      <td>This beautiful first floor apartment  is situa...</td>\n",
       "      <td>none</td>\n",
       "      <td>The neighbourhood is famous for its variety of...</td>\n",
       "      <td>...</td>\n",
       "      <td>t</td>\n",
       "      <td>NaN</td>\n",
       "      <td>NaN</td>\n",
       "      <td>t</td>\n",
       "      <td>f</td>\n",
       "      <td>strict_14_with_grace_period</td>\n",
       "      <td>f</td>\n",
       "      <td>f</td>\n",
       "      <td>1</td>\n",
       "      <td>1.25</td>\n",
       "    </tr>\n",
       "    <tr>\n",
       "      <th>3</th>\n",
       "      <td>3309</td>\n",
       "      <td>https://www.airbnb.com/rooms/3309</td>\n",
       "      <td>20181107122246</td>\n",
       "      <td>2018-11-07</td>\n",
       "      <td>BerlinSpot Schöneberg near KaDeWe</td>\n",
       "      <td>First of all: I prefer short-notice bookings. ...</td>\n",
       "      <td>Your room is really big and has 26 sqm, is ver...</td>\n",
       "      <td>First of all: I prefer short-notice bookings. ...</td>\n",
       "      <td>none</td>\n",
       "      <td>My flat is in the middle of West-Berlin, direc...</td>\n",
       "      <td>...</td>\n",
       "      <td>t</td>\n",
       "      <td>NaN</td>\n",
       "      <td>NaN</td>\n",
       "      <td>f</td>\n",
       "      <td>f</td>\n",
       "      <td>strict_14_with_grace_period</td>\n",
       "      <td>f</td>\n",
       "      <td>f</td>\n",
       "      <td>1</td>\n",
       "      <td>0.39</td>\n",
       "    </tr>\n",
       "    <tr>\n",
       "      <th>4</th>\n",
       "      <td>7071</td>\n",
       "      <td>https://www.airbnb.com/rooms/7071</td>\n",
       "      <td>20181107122246</td>\n",
       "      <td>2018-11-07</td>\n",
       "      <td>BrightRoom with sunny greenview!</td>\n",
       "      <td>Cozy and large room in the beautiful district ...</td>\n",
       "      <td>The BrightRoom is an approx. 20 sqm (215ft²), ...</td>\n",
       "      <td>Cozy and large room in the beautiful district ...</td>\n",
       "      <td>none</td>\n",
       "      <td>Great neighborhood with plenty of Cafés, Baker...</td>\n",
       "      <td>...</td>\n",
       "      <td>t</td>\n",
       "      <td>NaN</td>\n",
       "      <td>NaN</td>\n",
       "      <td>f</td>\n",
       "      <td>f</td>\n",
       "      <td>moderate</td>\n",
       "      <td>f</td>\n",
       "      <td>f</td>\n",
       "      <td>1</td>\n",
       "      <td>1.75</td>\n",
       "    </tr>\n",
       "  </tbody>\n",
       "</table>\n",
       "<p>5 rows × 96 columns</p>\n",
       "</div>"
      ],
      "text/plain": [
       "     id                        listing_url       scrape_id last_scraped  \\\n",
       "0  2015  https://www.airbnb.com/rooms/2015  20181107122246   2018-11-07   \n",
       "1  2695  https://www.airbnb.com/rooms/2695  20181107122246   2018-11-07   \n",
       "2  3176  https://www.airbnb.com/rooms/3176  20181107122246   2018-11-07   \n",
       "3  3309  https://www.airbnb.com/rooms/3309  20181107122246   2018-11-07   \n",
       "4  7071  https://www.airbnb.com/rooms/7071  20181107122246   2018-11-07   \n",
       "\n",
       "                                               name  \\\n",
       "0  Berlin-Mitte Value! Quiet courtyard/very central   \n",
       "1                Prenzlauer Berg close to Mauerpark   \n",
       "2                   Fabulous Flat in great Location   \n",
       "3                 BerlinSpot Schöneberg near KaDeWe   \n",
       "4                  BrightRoom with sunny greenview!   \n",
       "\n",
       "                                             summary  \\\n",
       "0  Great location!  30 of 75 sq meters. This wood...   \n",
       "1                                                NaN   \n",
       "2  This beautiful first floor apartment  is situa...   \n",
       "3  First of all: I prefer short-notice bookings. ...   \n",
       "4  Cozy and large room in the beautiful district ...   \n",
       "\n",
       "                                               space  \\\n",
       "0  A+++ location! This „Einliegerwohnung“ is an e...   \n",
       "1  In the summertime we are spending most of our ...   \n",
       "2  1st floor (68m2) apartment on Kollwitzplatz/ P...   \n",
       "3  Your room is really big and has 26 sqm, is ver...   \n",
       "4  The BrightRoom is an approx. 20 sqm (215ft²), ...   \n",
       "\n",
       "                                         description experiences_offered  \\\n",
       "0  Great location!  30 of 75 sq meters. This wood...                none   \n",
       "1  In the summertime we are spending most of our ...                none   \n",
       "2  This beautiful first floor apartment  is situa...                none   \n",
       "3  First of all: I prefer short-notice bookings. ...                none   \n",
       "4  Cozy and large room in the beautiful district ...                none   \n",
       "\n",
       "                               neighborhood_overview  ... requires_license  \\\n",
       "0  It is located in the former East Berlin area o...  ...                t   \n",
       "1                                                NaN  ...                t   \n",
       "2  The neighbourhood is famous for its variety of...  ...                t   \n",
       "3  My flat is in the middle of West-Berlin, direc...  ...                t   \n",
       "4  Great neighborhood with plenty of Cafés, Baker...  ...                t   \n",
       "\n",
       "  license jurisdiction_names instant_bookable is_business_travel_ready  \\\n",
       "0     NaN                NaN                f                        f   \n",
       "1     NaN                NaN                f                        f   \n",
       "2     NaN                NaN                t                        f   \n",
       "3     NaN                NaN                f                        f   \n",
       "4     NaN                NaN                f                        f   \n",
       "\n",
       "           cancellation_policy  require_guest_profile_picture  \\\n",
       "0  strict_14_with_grace_period                              f   \n",
       "1                     flexible                              f   \n",
       "2  strict_14_with_grace_period                              f   \n",
       "3  strict_14_with_grace_period                              f   \n",
       "4                     moderate                              f   \n",
       "\n",
       "  require_guest_phone_verification  calculated_host_listings_count  \\\n",
       "0                                f                               4   \n",
       "1                                f                               1   \n",
       "2                                f                               1   \n",
       "3                                f                               1   \n",
       "4                                f                               1   \n",
       "\n",
       "   reviews_per_month  \n",
       "0               3.76  \n",
       "1               1.42  \n",
       "2               1.25  \n",
       "3               0.39  \n",
       "4               1.75  \n",
       "\n",
       "[5 rows x 96 columns]"
      ]
     },
     "execution_count": 3,
     "metadata": {},
     "output_type": "execute_result"
    }
   ],
   "source": [
    "listing_summary = pd.read_csv(\"./data/listings_summary.csv\", delimiter = ',')\n",
    "# checking shape\n",
    "print(\"The dataset listing_summary has {} rows and {} columns.\".format(*listing_summary.shape))\n",
    "\n",
    "# check the columns we currently have\n",
    "print(\"columns of database: {}\".format(listing_summary.columns))\n",
    "listing_summary.head()"
   ]
  },
  {
   "cell_type": "markdown",
   "metadata": {},
   "source": [
    "There is an enormous amount of information that is not useful to us and therefore will be removed in the following sections."
   ]
  },
  {
   "cell_type": "markdown",
   "metadata": {},
   "source": [
    "#### calendar_summary\n",
    "Each line represents a reservation with a date, the availability of the property and the rental price at that date."
   ]
  },
  {
   "cell_type": "code",
   "execution_count": 4,
   "metadata": {},
   "outputs": [
    {
     "name": "stdout",
     "output_type": "stream",
     "text": [
      "The dataset calendar_summary has 8231480 rows and 4 columns.\n"
     ]
    },
    {
     "data": {
      "text/html": [
       "<div>\n",
       "<style scoped>\n",
       "    .dataframe tbody tr th:only-of-type {\n",
       "        vertical-align: middle;\n",
       "    }\n",
       "\n",
       "    .dataframe tbody tr th {\n",
       "        vertical-align: top;\n",
       "    }\n",
       "\n",
       "    .dataframe thead th {\n",
       "        text-align: right;\n",
       "    }\n",
       "</style>\n",
       "<table border=\"1\" class=\"dataframe\">\n",
       "  <thead>\n",
       "    <tr style=\"text-align: right;\">\n",
       "      <th></th>\n",
       "      <th>listing_id</th>\n",
       "      <th>date</th>\n",
       "      <th>available</th>\n",
       "      <th>price</th>\n",
       "    </tr>\n",
       "  </thead>\n",
       "  <tbody>\n",
       "    <tr>\n",
       "      <th>0</th>\n",
       "      <td>2015</td>\n",
       "      <td>2019-09-10</td>\n",
       "      <td>f</td>\n",
       "      <td>NaN</td>\n",
       "    </tr>\n",
       "    <tr>\n",
       "      <th>1</th>\n",
       "      <td>2015</td>\n",
       "      <td>2019-09-09</td>\n",
       "      <td>f</td>\n",
       "      <td>NaN</td>\n",
       "    </tr>\n",
       "  </tbody>\n",
       "</table>\n",
       "</div>"
      ],
      "text/plain": [
       "   listing_id        date available price\n",
       "0        2015  2019-09-10         f   NaN\n",
       "1        2015  2019-09-09         f   NaN"
      ]
     },
     "execution_count": 4,
     "metadata": {},
     "output_type": "execute_result"
    }
   ],
   "source": [
    "calendar_summary = pd.read_csv(\"./data/calendar_summary.csv\", delimiter = ',')\n",
    "# checking shape\n",
    "print(\"The dataset calendar_summary has {} rows and {} columns.\".format(*calendar_summary.shape))\n",
    "\n",
    "# check the columns we currently have\n",
    "calendar_summary.head(2)"
   ]
  },
  {
   "cell_type": "markdown",
   "metadata": {},
   "source": [
    "#### neighbourhoods\n",
    "\n",
    "\n",
    "\n",
    "This database contains all the districts and neighbourhoods that make up Berlin, the neighbourhood information of each reservation is given in the variables 'neighbourhood', 'neighbourhood_cleansed', 'neighbourhood_group_cleansed' of the listing_summary database, so it will not be necessary to keep this neighbourhoods database for the next analyses. "
   ]
  },
  {
   "cell_type": "code",
   "execution_count": 5,
   "metadata": {},
   "outputs": [
    {
     "name": "stdout",
     "output_type": "stream",
     "text": [
      "The dataset neighbourhoods has 139 rows and 2 columns.\n",
      "columns of database: Index(['neighbourhood_group', 'neighbourhood'], dtype='object')\n"
     ]
    },
    {
     "data": {
      "text/html": [
       "<div>\n",
       "<style scoped>\n",
       "    .dataframe tbody tr th:only-of-type {\n",
       "        vertical-align: middle;\n",
       "    }\n",
       "\n",
       "    .dataframe tbody tr th {\n",
       "        vertical-align: top;\n",
       "    }\n",
       "\n",
       "    .dataframe thead th {\n",
       "        text-align: right;\n",
       "    }\n",
       "</style>\n",
       "<table border=\"1\" class=\"dataframe\">\n",
       "  <thead>\n",
       "    <tr style=\"text-align: right;\">\n",
       "      <th></th>\n",
       "      <th>neighbourhood_group</th>\n",
       "      <th>neighbourhood</th>\n",
       "    </tr>\n",
       "  </thead>\n",
       "  <tbody>\n",
       "    <tr>\n",
       "      <th>0</th>\n",
       "      <td>Charlottenburg-Wilm.</td>\n",
       "      <td>Barstraße</td>\n",
       "    </tr>\n",
       "    <tr>\n",
       "      <th>1</th>\n",
       "      <td>Charlottenburg-Wilm.</td>\n",
       "      <td>Charlottenburg Nord</td>\n",
       "    </tr>\n",
       "  </tbody>\n",
       "</table>\n",
       "</div>"
      ],
      "text/plain": [
       "    neighbourhood_group        neighbourhood\n",
       "0  Charlottenburg-Wilm.            Barstraße\n",
       "1  Charlottenburg-Wilm.  Charlottenburg Nord"
      ]
     },
     "execution_count": 5,
     "metadata": {},
     "output_type": "execute_result"
    }
   ],
   "source": [
    "neighbourhoods  = pd.read_csv(\"./data/neighbourhoods.csv\", delimiter = ',')\n",
    "# checking shape\n",
    "print(\"The dataset neighbourhoods has {} rows and {} columns.\".format(*neighbourhoods.shape))\n",
    "\n",
    "# check the columns we currently have\n",
    "print(\"columns of database: {}\".format(neighbourhoods.columns))\n",
    "neighbourhoods.head(2)"
   ]
  },
  {
   "cell_type": "markdown",
   "metadata": {},
   "source": [
    "#### reviews\n",
    "\n",
    "\n",
    "This database contains all the comments put for each reservation according to the day.\n",
    "\n",
    "By finding the period of the stays or in any case the average, with the average of the comments per month, we can conjecture on the number of days booked per month for a reservation. \n"
   ]
  },
  {
   "cell_type": "code",
   "execution_count": 6,
   "metadata": {},
   "outputs": [
    {
     "name": "stdout",
     "output_type": "stream",
     "text": [
      "The dataset reviews has 401963 rows and 2 columns.\n",
      "columns of database: Index(['listing_id', 'date'], dtype='object')\n"
     ]
    },
    {
     "data": {
      "text/html": [
       "<div>\n",
       "<style scoped>\n",
       "    .dataframe tbody tr th:only-of-type {\n",
       "        vertical-align: middle;\n",
       "    }\n",
       "\n",
       "    .dataframe tbody tr th {\n",
       "        vertical-align: top;\n",
       "    }\n",
       "\n",
       "    .dataframe thead th {\n",
       "        text-align: right;\n",
       "    }\n",
       "</style>\n",
       "<table border=\"1\" class=\"dataframe\">\n",
       "  <thead>\n",
       "    <tr style=\"text-align: right;\">\n",
       "      <th></th>\n",
       "      <th>listing_id</th>\n",
       "      <th>date</th>\n",
       "    </tr>\n",
       "  </thead>\n",
       "  <tbody>\n",
       "    <tr>\n",
       "      <th>0</th>\n",
       "      <td>2015</td>\n",
       "      <td>2016-04-11</td>\n",
       "    </tr>\n",
       "    <tr>\n",
       "      <th>1</th>\n",
       "      <td>2015</td>\n",
       "      <td>2016-04-15</td>\n",
       "    </tr>\n",
       "  </tbody>\n",
       "</table>\n",
       "</div>"
      ],
      "text/plain": [
       "   listing_id        date\n",
       "0        2015  2016-04-11\n",
       "1        2015  2016-04-15"
      ]
     },
     "execution_count": 6,
     "metadata": {},
     "output_type": "execute_result"
    }
   ],
   "source": [
    "reviews = pd.read_csv(\"./data/reviews.csv\", delimiter = ',')\n",
    "# checking shape\n",
    "print(\"The dataset reviews has {} rows and {} columns.\".format(*reviews.shape))\n",
    "\n",
    "# check the columns we currently have\n",
    "print(\"columns of database: {}\".format(reviews.columns))\n",
    "reviews.head(2)"
   ]
  },
  {
   "cell_type": "markdown",
   "metadata": {},
   "source": [
    "#### reviews_summary\n",
    "\n",
    "This database contains the same information as reviews by adding reviewer_id, reviewer_name, comments."
   ]
  },
  {
   "cell_type": "code",
   "execution_count": 7,
   "metadata": {},
   "outputs": [
    {
     "name": "stdout",
     "output_type": "stream",
     "text": [
      "The dataset reviews_summary has 401963 rows and 6 columns.\n",
      "columns of database: Index(['listing_id', 'id', 'date', 'reviewer_id', 'reviewer_name', 'comments'], dtype='object')\n"
     ]
    },
    {
     "data": {
      "text/html": [
       "<div>\n",
       "<style scoped>\n",
       "    .dataframe tbody tr th:only-of-type {\n",
       "        vertical-align: middle;\n",
       "    }\n",
       "\n",
       "    .dataframe tbody tr th {\n",
       "        vertical-align: top;\n",
       "    }\n",
       "\n",
       "    .dataframe thead th {\n",
       "        text-align: right;\n",
       "    }\n",
       "</style>\n",
       "<table border=\"1\" class=\"dataframe\">\n",
       "  <thead>\n",
       "    <tr style=\"text-align: right;\">\n",
       "      <th></th>\n",
       "      <th>listing_id</th>\n",
       "      <th>id</th>\n",
       "      <th>date</th>\n",
       "      <th>reviewer_id</th>\n",
       "      <th>reviewer_name</th>\n",
       "      <th>comments</th>\n",
       "    </tr>\n",
       "  </thead>\n",
       "  <tbody>\n",
       "    <tr>\n",
       "      <th>0</th>\n",
       "      <td>2015</td>\n",
       "      <td>69544350</td>\n",
       "      <td>2016-04-11</td>\n",
       "      <td>7178145</td>\n",
       "      <td>Rahel</td>\n",
       "      <td>Mein Freund und ich hatten gute gemütliche vie...</td>\n",
       "    </tr>\n",
       "    <tr>\n",
       "      <th>1</th>\n",
       "      <td>2015</td>\n",
       "      <td>69990732</td>\n",
       "      <td>2016-04-15</td>\n",
       "      <td>41944715</td>\n",
       "      <td>Hannah</td>\n",
       "      <td>Jan was very friendly and welcoming host! The ...</td>\n",
       "    </tr>\n",
       "  </tbody>\n",
       "</table>\n",
       "</div>"
      ],
      "text/plain": [
       "   listing_id        id        date  reviewer_id reviewer_name  \\\n",
       "0        2015  69544350  2016-04-11      7178145         Rahel   \n",
       "1        2015  69990732  2016-04-15     41944715        Hannah   \n",
       "\n",
       "                                            comments  \n",
       "0  Mein Freund und ich hatten gute gemütliche vie...  \n",
       "1  Jan was very friendly and welcoming host! The ...  "
      ]
     },
     "execution_count": 7,
     "metadata": {},
     "output_type": "execute_result"
    }
   ],
   "source": [
    "reviews_summary = pd.read_csv(\"./data/reviews_summary.csv\", delimiter = ',')\n",
    "# checking shape\n",
    "print(\"The dataset reviews_summary has {} rows and {} columns.\".format(*reviews_summary.shape))\n",
    "\n",
    "# check the columns we currently have\n",
    "print(\"columns of database: {}\".format(reviews_summary.columns))\n",
    "reviews_summary.head(2)"
   ]
  },
  {
   "cell_type": "markdown",
   "metadata": {},
   "source": [
    "It would surely be beneficial to analyze the comments to know the criteria that satisfy the customers, but we base ourselves on the example of an individual who has just arrived, so he has no comments and no marks on his accommodation. "
   ]
  },
  {
   "cell_type": "markdown",
   "metadata": {},
   "source": [
    "## Explore Data \n",
    "### Data Exploration Report\n"
   ]
  },
  {
   "cell_type": "markdown",
   "metadata": {},
   "source": [
    "#### work on listing_summary"
   ]
  },
  {
   "cell_type": "markdown",
   "metadata": {},
   "source": [
    "\n",
    "A price feature can be found in listing_summary and in calendar_summary.\n",
    "\n",
    "In listing_summary price is a data set for each reservation.\n",
    "\n",
    "In calendar_summary, it represents the price of the reservation per day when the reservation is available.\n",
    "\n",
    "Let's test the difference."
   ]
  },
  {
   "cell_type": "code",
   "execution_count": 8,
   "metadata": {},
   "outputs": [
    {
     "name": "stdout",
     "output_type": "stream",
     "text": [
      "mean of price 81.90070921985816  for 141 days on 365 days\n",
      " price of $60.00 proposed in listing_summary\n"
     ]
    }
   ],
   "source": [
    "# différence entre price dans calendar_summary et price dans listing_summary\n",
    "calendar_t = calendar_summary[calendar_summary.available ==\"t\"]\n",
    "calendar_ttt = calendar_t[calendar_t.listing_id == 2015]\n",
    "cl_price = calendar_ttt.price.str.replace('$', '').str.replace(',', '').astype(float).astype(int)\n",
    "cl_price.mean()\n",
    "cl = calendar_summary[calendar_summary.listing_id == 2015]\n",
    "print(\"mean of price {}  for {} days on {} days\".format(cl_price.mean(), cl_price.count(), cl.available.count()))\n",
    "print(\" price of {} proposed in listing_summary\".format(listing_summary[listing_summary.id == 2015].price.values[0]))"
   ]
  },
  {
   "cell_type": "markdown",
   "metadata": {},
   "source": [
    "The difference between the 2 can be explained, if the price of 60$ represents what the owner receives from Airbnb. or there is missing information in calendary_summary.\n",
    "\n",
    "We could use calendar_summary to set a price for each reservation per month, which might be more useful to give a more accurate price of the apartment according to the months. "
   ]
  },
  {
   "cell_type": "code",
   "execution_count": 9,
   "metadata": {},
   "outputs": [
    {
     "data": {
      "text/plain": [
       "[('Wifi', 21512),\n",
       " ('Kitchen', 21332),\n",
       " ('Heating', 21190),\n",
       " ('Essentials', 20329),\n",
       " ('Washer', 18497),\n",
       " ('Hair dryer', 14891),\n",
       " ('Laptop friendly workspace', 14447),\n",
       " ('Hangers', 13908),\n",
       " ('Iron', 11206),\n",
       " ('Shampoo', 10654),\n",
       " ('TV', 10134),\n",
       " ('Hot water', 9744),\n",
       " ('Family/kid friendly', 8141),\n",
       " ('Internet', 7909),\n",
       " ('Host greets you', 6663),\n",
       " ('Smoke detector', 6457),\n",
       " ('Buzzer/wireless intercom', 6116),\n",
       " ('Lock on bedroom door', 5294),\n",
       " ('Refrigerator', 5212),\n",
       " ('Free street parking', 5190)]"
      ]
     },
     "execution_count": 9,
     "metadata": {},
     "output_type": "execute_result"
    }
   ],
   "source": [
    "from collections import Counter\n",
    "\n",
    "results = Counter()\n",
    "listing_summary['amenities'].str.strip('{}')\\\n",
    "               .str.replace('\"', '')\\\n",
    "               .str.lstrip('\\\"')\\\n",
    "               .str.rstrip('\\\"')\\\n",
    "               .str.split(',')\\\n",
    "               .apply(results.update)\n",
    "\n",
    "results.most_common(20)"
   ]
  },
  {
   "cell_type": "code",
   "execution_count": 10,
   "metadata": {},
   "outputs": [
    {
     "data": {
      "image/png": "[encoded data removed]",
      "text/plain": [
       "<Figure size 720x504 with 1 Axes>"
      ]
     },
     "metadata": {},
     "output_type": "display_data"
    }
   ],
   "source": [
    "# create a new dataframe\n",
    "sub_df = pd.DataFrame(results.most_common(50), columns=['amenity', 'count'])\n",
    "\n",
    "# plot the Top 50\n",
    "sub_df.sort_values(by=['count'], ascending=True).plot(kind='barh', x='amenity', y='count',  \n",
    "                                                      figsize=(10,7), legend=False, color='darkgrey',\n",
    "                                                      title='Amenities')\n",
    "plt.xlabel('Count');"
   ]
  },
  {
   "cell_type": "markdown",
   "metadata": {},
   "source": [
    "#### work on reviews"
   ]
  },
  {
   "cell_type": "code",
   "execution_count": 11,
   "metadata": {},
   "outputs": [
    {
     "name": "stderr",
     "output_type": "stream",
     "text": [
      "C:\\Users\\Utilisateur\\anaconda3\\lib\\site-packages\\pandas\\core\\indexing.py:1596: SettingWithCopyWarning: \n",
      "A value is trying to be set on a copy of a slice from a DataFrame.\n",
      "Try using .loc[row_indexer,col_indexer] = value instead\n",
      "\n",
      "See the caveats in the documentation: https://pandas.pydata.org/pandas-docs/stable/user_guide/indexing.html#returning-a-view-versus-a-copy\n",
      "  self.obj[key] = _infer_fill_value(value)\n",
      "C:\\Users\\Utilisateur\\anaconda3\\lib\\site-packages\\pandas\\core\\indexing.py:1765: SettingWithCopyWarning: \n",
      "A value is trying to be set on a copy of a slice from a DataFrame.\n",
      "Try using .loc[row_indexer,col_indexer] = value instead\n",
      "\n",
      "See the caveats in the documentation: https://pandas.pydata.org/pandas-docs/stable/user_guide/indexing.html#returning-a-view-versus-a-copy\n",
      "  isetter(loc, value)\n"
     ]
    },
    {
     "ename": "SpecificationError",
     "evalue": "nested renamer is not supported",
     "output_type": "error",
     "traceback": [
      "\u001b[1;31m---------------------------------------------------------------------------\u001b[0m",
      "\u001b[1;31mSpecificationError\u001b[0m                        Traceback (most recent call last)",
      "\u001b[1;32m<ipython-input-11-48f02e112a07>\u001b[0m in \u001b[0;36m<module>\u001b[1;34m\u001b[0m\n\u001b[0;32m     12\u001b[0m \u001b[0mcount_2015\u001b[0m\u001b[1;33m.\u001b[0m\u001b[0mloc\u001b[0m\u001b[1;33m[\u001b[0m\u001b[1;33m:\u001b[0m\u001b[1;33m,\u001b[0m\u001b[1;34m'review_count'\u001b[0m\u001b[1;33m]\u001b[0m \u001b[1;33m=\u001b[0m \u001b[1;36m1\u001b[0m\u001b[1;33m\u001b[0m\u001b[1;33m\u001b[0m\u001b[0m\n\u001b[0;32m     13\u001b[0m \u001b[1;33m\u001b[0m\u001b[0m\n\u001b[1;32m---> 14\u001b[1;33m \u001b[0mcount_2018_monthly\u001b[0m \u001b[1;33m=\u001b[0m \u001b[0mcount_2018\u001b[0m\u001b[1;33m.\u001b[0m\u001b[0mgroupby\u001b[0m\u001b[1;33m(\u001b[0m\u001b[1;33m[\u001b[0m\u001b[0mcount_2018\u001b[0m\u001b[1;33m.\u001b[0m\u001b[0mdate\u001b[0m\u001b[1;33m.\u001b[0m\u001b[0mdt\u001b[0m\u001b[1;33m.\u001b[0m\u001b[0mto_period\u001b[0m\u001b[1;33m(\u001b[0m\u001b[1;34m\"M\"\u001b[0m\u001b[1;33m)\u001b[0m\u001b[1;33m,\u001b[0m \u001b[1;34m'listing_id'\u001b[0m\u001b[1;33m]\u001b[0m\u001b[1;33m)\u001b[0m\u001b[1;33m[\u001b[0m\u001b[1;34m'review_count'\u001b[0m\u001b[1;33m]\u001b[0m\u001b[1;33m.\u001b[0m\u001b[0magg\u001b[0m\u001b[1;33m(\u001b[0m\u001b[1;33m{\u001b[0m\u001b[1;34m'review_count'\u001b[0m\u001b[1;33m:\u001b[0m\u001b[1;33m{\u001b[0m\u001b[1;34m'reviews_per_month_18'\u001b[0m\u001b[1;33m:\u001b[0m\u001b[1;34m'count'\u001b[0m\u001b[1;33m}\u001b[0m\u001b[1;33m}\u001b[0m\u001b[1;33m)\u001b[0m\u001b[1;33m.\u001b[0m\u001b[0mreset_index\u001b[0m\u001b[1;33m(\u001b[0m\u001b[1;33m)\u001b[0m\u001b[1;33m\u001b[0m\u001b[1;33m\u001b[0m\u001b[0m\n\u001b[0m\u001b[0;32m     15\u001b[0m \u001b[0mcount_2017_monthly\u001b[0m \u001b[1;33m=\u001b[0m \u001b[0mcount_2017\u001b[0m\u001b[1;33m.\u001b[0m\u001b[0mgroupby\u001b[0m\u001b[1;33m(\u001b[0m\u001b[1;33m[\u001b[0m\u001b[0mcount_2017\u001b[0m\u001b[1;33m.\u001b[0m\u001b[0mdate\u001b[0m\u001b[1;33m.\u001b[0m\u001b[0mdt\u001b[0m\u001b[1;33m.\u001b[0m\u001b[0mto_period\u001b[0m\u001b[1;33m(\u001b[0m\u001b[1;34m\"M\"\u001b[0m\u001b[1;33m)\u001b[0m\u001b[1;33m,\u001b[0m \u001b[1;34m'listing_id'\u001b[0m\u001b[1;33m]\u001b[0m\u001b[1;33m)\u001b[0m\u001b[1;33m[\u001b[0m\u001b[1;34m'review_count'\u001b[0m\u001b[1;33m]\u001b[0m\u001b[1;33m.\u001b[0m\u001b[0magg\u001b[0m\u001b[1;33m(\u001b[0m\u001b[1;33m{\u001b[0m\u001b[1;34m'review_count'\u001b[0m\u001b[1;33m:\u001b[0m\u001b[1;33m{\u001b[0m\u001b[1;34m'reviews_per_month_17'\u001b[0m\u001b[1;33m:\u001b[0m\u001b[1;34m'count'\u001b[0m\u001b[1;33m}\u001b[0m\u001b[1;33m}\u001b[0m\u001b[1;33m)\u001b[0m\u001b[1;33m.\u001b[0m\u001b[0mreset_index\u001b[0m\u001b[1;33m(\u001b[0m\u001b[1;33m)\u001b[0m\u001b[1;33m\u001b[0m\u001b[1;33m\u001b[0m\u001b[0m\n\u001b[0;32m     16\u001b[0m \u001b[0mcount_2016_monthly\u001b[0m \u001b[1;33m=\u001b[0m \u001b[0mcount_2016\u001b[0m\u001b[1;33m.\u001b[0m\u001b[0mgroupby\u001b[0m\u001b[1;33m(\u001b[0m\u001b[1;33m[\u001b[0m\u001b[0mcount_2016\u001b[0m\u001b[1;33m.\u001b[0m\u001b[0mdate\u001b[0m\u001b[1;33m.\u001b[0m\u001b[0mdt\u001b[0m\u001b[1;33m.\u001b[0m\u001b[0mto_period\u001b[0m\u001b[1;33m(\u001b[0m\u001b[1;34m\"M\"\u001b[0m\u001b[1;33m)\u001b[0m\u001b[1;33m,\u001b[0m \u001b[1;34m'listing_id'\u001b[0m\u001b[1;33m]\u001b[0m\u001b[1;33m)\u001b[0m\u001b[1;33m[\u001b[0m\u001b[1;34m'review_count'\u001b[0m\u001b[1;33m]\u001b[0m\u001b[1;33m.\u001b[0m\u001b[0magg\u001b[0m\u001b[1;33m(\u001b[0m\u001b[1;33m{\u001b[0m\u001b[1;34m'review_count'\u001b[0m\u001b[1;33m:\u001b[0m\u001b[1;33m{\u001b[0m\u001b[1;34m'reviews_per_month_16'\u001b[0m\u001b[1;33m:\u001b[0m\u001b[1;34m'count'\u001b[0m\u001b[1;33m}\u001b[0m\u001b[1;33m}\u001b[0m\u001b[1;33m)\u001b[0m\u001b[1;33m.\u001b[0m\u001b[0mreset_index\u001b[0m\u001b[1;33m(\u001b[0m\u001b[1;33m)\u001b[0m\u001b[1;33m\u001b[0m\u001b[1;33m\u001b[0m\u001b[0m\n",
      "\u001b[1;32m~\\anaconda3\\lib\\site-packages\\pandas\\core\\groupby\\generic.py\u001b[0m in \u001b[0;36maggregate\u001b[1;34m(self, func, engine, engine_kwargs, *args, **kwargs)\u001b[0m\n\u001b[0;32m    244\u001b[0m             \u001b[1;31m# but not the class list / tuple itself.\u001b[0m\u001b[1;33m\u001b[0m\u001b[1;33m\u001b[0m\u001b[1;33m\u001b[0m\u001b[0m\n\u001b[0;32m    245\u001b[0m             \u001b[0mfunc\u001b[0m \u001b[1;33m=\u001b[0m \u001b[0mmaybe_mangle_lambdas\u001b[0m\u001b[1;33m(\u001b[0m\u001b[0mfunc\u001b[0m\u001b[1;33m)\u001b[0m\u001b[1;33m\u001b[0m\u001b[1;33m\u001b[0m\u001b[0m\n\u001b[1;32m--> 246\u001b[1;33m             \u001b[0mret\u001b[0m \u001b[1;33m=\u001b[0m \u001b[0mself\u001b[0m\u001b[1;33m.\u001b[0m\u001b[0m_aggregate_multiple_funcs\u001b[0m\u001b[1;33m(\u001b[0m\u001b[0mfunc\u001b[0m\u001b[1;33m)\u001b[0m\u001b[1;33m\u001b[0m\u001b[1;33m\u001b[0m\u001b[0m\n\u001b[0m\u001b[0;32m    247\u001b[0m             \u001b[1;32mif\u001b[0m \u001b[0mrelabeling\u001b[0m\u001b[1;33m:\u001b[0m\u001b[1;33m\u001b[0m\u001b[1;33m\u001b[0m\u001b[0m\n\u001b[0;32m    248\u001b[0m                 \u001b[0mret\u001b[0m\u001b[1;33m.\u001b[0m\u001b[0mcolumns\u001b[0m \u001b[1;33m=\u001b[0m \u001b[0mcolumns\u001b[0m\u001b[1;33m\u001b[0m\u001b[1;33m\u001b[0m\u001b[0m\n",
      "\u001b[1;32m~\\anaconda3\\lib\\site-packages\\pandas\\core\\groupby\\generic.py\u001b[0m in \u001b[0;36m_aggregate_multiple_funcs\u001b[1;34m(self, arg)\u001b[0m\n\u001b[0;32m    290\u001b[0m             \u001b[1;31m# GH 15931\u001b[0m\u001b[1;33m\u001b[0m\u001b[1;33m\u001b[0m\u001b[1;33m\u001b[0m\u001b[0m\n\u001b[0;32m    291\u001b[0m             \u001b[1;32mif\u001b[0m \u001b[0misinstance\u001b[0m\u001b[1;33m(\u001b[0m\u001b[0mself\u001b[0m\u001b[1;33m.\u001b[0m\u001b[0m_selected_obj\u001b[0m\u001b[1;33m,\u001b[0m \u001b[0mSeries\u001b[0m\u001b[1;33m)\u001b[0m\u001b[1;33m:\u001b[0m\u001b[1;33m\u001b[0m\u001b[1;33m\u001b[0m\u001b[0m\n\u001b[1;32m--> 292\u001b[1;33m                 \u001b[1;32mraise\u001b[0m \u001b[0mSpecificationError\u001b[0m\u001b[1;33m(\u001b[0m\u001b[1;34m\"nested renamer is not supported\"\u001b[0m\u001b[1;33m)\u001b[0m\u001b[1;33m\u001b[0m\u001b[1;33m\u001b[0m\u001b[0m\n\u001b[0m\u001b[0;32m    293\u001b[0m \u001b[1;33m\u001b[0m\u001b[0m\n\u001b[0;32m    294\u001b[0m             \u001b[0mcolumns\u001b[0m \u001b[1;33m=\u001b[0m \u001b[0mlist\u001b[0m\u001b[1;33m(\u001b[0m\u001b[0marg\u001b[0m\u001b[1;33m.\u001b[0m\u001b[0mkeys\u001b[0m\u001b[1;33m(\u001b[0m\u001b[1;33m)\u001b[0m\u001b[1;33m)\u001b[0m\u001b[1;33m\u001b[0m\u001b[1;33m\u001b[0m\u001b[0m\n",
      "\u001b[1;31mSpecificationError\u001b[0m: nested renamer is not supported"
     ]
    }
   ],
   "source": [
    "# split the data by date\n",
    "reviews.date = pd.to_datetime(reviews.date, format=\"%Y-%m-%d\")\n",
    "\n",
    "count_2018 = reviews[reviews[\"date\"].isin(pd.date_range('2018-01-01', '2018-10-31'))]\n",
    "count_2017 = reviews[reviews[\"date\"].isin(pd.date_range('2017-01-01', '2017-12-31'))]\n",
    "count_2016 = reviews[reviews[\"date\"].isin(pd.date_range('2016-01-01', '2016-12-31'))]\n",
    "count_2015 = reviews[reviews[\"date\"].isin(pd.date_range('2015-01-01', '2015-12-31'))]\n",
    "\n",
    "count_2018.loc[:,'review_count'] = 1\n",
    "count_2017.loc[:,'review_count'] = 1\n",
    "count_2016.loc[:,'review_count'] = 1\n",
    "count_2015.loc[:,'review_count'] = 1\n",
    "\n",
    "count_2018_monthly = count_2018.groupby([count_2018.date.dt.to_period(\"M\"), 'listing_id'])['review_count'].agg({'review_count':{'reviews_per_month_18':'count'}}).reset_index()\n",
    "count_2017_monthly = count_2017.groupby([count_2017.date.dt.to_period(\"M\"), 'listing_id'])['review_count'].agg({'review_count':{'reviews_per_month_17':'count'}}).reset_index()\n",
    "count_2016_monthly = count_2016.groupby([count_2016.date.dt.to_period(\"M\"), 'listing_id'])['review_count'].agg({'review_count':{'reviews_per_month_16':'count'}}).reset_index()\n",
    "count_2015_monthly = count_2015.groupby([count_2015.date.dt.to_period(\"M\"), 'listing_id'])['review_count'].agg({'review_count':{'reviews_per_month_15':'count'}}).reset_index()\n",
    "\n",
    "\n",
    "count_2018_monthly.columns = ['date', 'listing_id', 'reviews_per_month_18']\n",
    "count_2017_monthly.columns = ['date', 'listing_id', 'reviews_per_month_17']\n",
    "count_2016_monthly.columns = ['date', 'listing_id', 'reviews_per_month_16']\n",
    "count_2015_monthly.columns = ['date', 'listing_id', 'reviews_per_month_15']\n",
    "\n",
    "count_2018_monthly.set_index('date', inplace=True)\n",
    "count_2017_monthly.set_index('date', inplace=True)\n",
    "count_2016_monthly.set_index('date', inplace=True)\n",
    "count_2015_monthly.set_index('date', inplace=True)"
   ]
  },
  {
   "cell_type": "code",
   "execution_count": null,
   "metadata": {},
   "outputs": [],
   "source": [
    "count_2018.groupby([count_2018.date.dt.to_period(\"M\"), 'listing_id'])['review_count'].count()"
   ]
  },
  {
   "cell_type": "code",
   "execution_count": null,
   "metadata": {},
   "outputs": [],
   "source": [
    "sns.set(style=\"dark\")\n",
    "fig, axes = plt.subplots(4, 1, figsize=(12,10))\n",
    "\n",
    "sub_1 = count_2018_monthly.groupby('date')['reviews_per_month_18'].mean()\n",
    "sub_1.plot(ax=axes[0], color='midnightblue', style=':')\n",
    "axes[0].set_title('2018', fontweight='bold')\n",
    "axes[0].set_xlabel('') \n",
    "\n",
    "sub_2 = count_2017_monthly.groupby('date')['reviews_per_month_17'].mean()\n",
    "sub_2.plot(ax=axes[1], color='grey', style=':')\n",
    "axes[1].set_title('2017', fontweight='bold')\n",
    "axes[1].set_xlabel('') \n",
    "\n",
    "sub_3 = count_2016_monthly.groupby('date')['reviews_per_month_16'].mean()\n",
    "sub_3.plot(ax=axes[2], color='coral', style=':')\n",
    "axes[2].set_title('2016', fontweight='bold')\n",
    "axes[2].set_xlabel('') \n",
    "\n",
    "sub_4 = count_2015_monthly.groupby('date')['reviews_per_month_15'].mean()\n",
    "sub_4.plot(ax=axes[3], color='forestgreen', style=':')\n",
    "axes[3].set_title('2015', fontweight='bold')\n",
    "axes[3].set_xlabel('') \n",
    "\n",
    "# adjust space between subplots and set a title\n",
    "plt.subplots_adjust(hspace = 0.6)\n",
    "plt.suptitle('\\nAverage Reviews per Month for Berlin\\n', fontweight='bold')\n",
    "\n",
    "# plot common y-label\n",
    "fig.text(0.04, 0.5, 'Average Reviews per Month', fontweight='bold', va='center', rotation='vertical');"
   ]
  },
  {
   "cell_type": "markdown",
   "metadata": {},
   "source": [
    "We see that there are more people during the April-October period and that it is in January that we have the least number of people.\n",
    "\n"
   ]
  },
  {
   "cell_type": "markdown",
   "metadata": {},
   "source": [
    "We do not have precise data on the length of stay for each review \n",
    "\n",
    "Starting from the Postula that the average stay is 3.5 days.\n",
    "\n",
    "with this information, we can guess on the number of days a reservation is rented and know the monthly income of each rental. "
   ]
  },
  {
   "cell_type": "markdown",
   "metadata": {},
   "source": [
    "## Verify Data Quality \n",
    "### Data Quality Report"
   ]
  },
  {
   "cell_type": "markdown",
   "metadata": {},
   "source": [
    "For each database we will check the percentage of missing data for each feature.\n",
    "\n",
    "so we can know which feature is usable for the model. "
   ]
  },
  {
   "cell_type": "code",
   "execution_count": 12,
   "metadata": {},
   "outputs": [],
   "source": [
    "# value NaN in database \n",
    "def print_nan_database(database):\n",
    "    NanCol = []\n",
    "    for x in database.columns.values:\n",
    "        if database[x].isna().sum()>0:\n",
    "            NanCol.append((x, \"pourcentage : {}\".format(round(database[x].isna().sum()/database.shape[0]*100, 2))))\n",
    "\n",
    "    print(\"Features that contain nulls;  \\n\\n\")\n",
    "\n",
    "    for x in NanCol:\n",
    "        print(x)"
   ]
  },
  {
   "cell_type": "markdown",
   "metadata": {},
   "source": [
    "#### working listing_summary"
   ]
  },
  {
   "cell_type": "code",
   "execution_count": 13,
   "metadata": {},
   "outputs": [
    {
     "name": "stdout",
     "output_type": "stream",
     "text": [
      "Features that contain nulls;  \n",
      "\n",
      "\n",
      "('name', 'pourcentage : 0.26')\n",
      "('summary', 'pourcentage : 4.27')\n",
      "('space', 'pourcentage : 37.83')\n",
      "('description', 'pourcentage : 0.9')\n",
      "('neighborhood_overview', 'pourcentage : 48.83')\n",
      "('notes', 'pourcentage : 68.01')\n",
      "('transit', 'pourcentage : 42.2')\n",
      "('access', 'pourcentage : 51.95')\n",
      "('interaction', 'pourcentage : 53.86')\n",
      "('house_rules', 'pourcentage : 49.23')\n",
      "('thumbnail_url', 'pourcentage : 100.0')\n",
      "('medium_url', 'pourcentage : 100.0')\n",
      "('xl_picture_url', 'pourcentage : 100.0')\n",
      "('host_name', 'pourcentage : 0.12')\n",
      "('host_since', 'pourcentage : 0.12')\n",
      "('host_location', 'pourcentage : 0.51')\n",
      "('host_about', 'pourcentage : 50.39')\n",
      "('host_response_time', 'pourcentage : 57.17')\n",
      "('host_response_rate', 'pourcentage : 57.18')\n",
      "('host_acceptance_rate', 'pourcentage : 100.0')\n",
      "('host_is_superhost', 'pourcentage : 0.12')\n",
      "('host_thumbnail_url', 'pourcentage : 0.12')\n",
      "('host_picture_url', 'pourcentage : 0.12')\n",
      "('host_neighbourhood', 'pourcentage : 22.59')\n",
      "('host_listings_count', 'pourcentage : 0.12')\n",
      "('host_total_listings_count', 'pourcentage : 0.12')\n",
      "('host_has_profile_pic', 'pourcentage : 0.12')\n",
      "('host_identity_verified', 'pourcentage : 0.12')\n",
      "('neighbourhood', 'pourcentage : 5.02')\n",
      "('city', 'pourcentage : 0.02')\n",
      "('state', 'pourcentage : 0.37')\n",
      "('zipcode', 'pourcentage : 2.91')\n",
      "('market', 'pourcentage : 0.28')\n",
      "('bathrooms', 'pourcentage : 0.14')\n",
      "('bedrooms', 'pourcentage : 0.08')\n",
      "('beds', 'pourcentage : 0.18')\n",
      "('square_feet', 'pourcentage : 98.02')\n",
      "('weekly_price', 'pourcentage : 83.68')\n",
      "('monthly_price', 'pourcentage : 88.21')\n",
      "('security_deposit', 'pourcentage : 41.51')\n",
      "('cleaning_fee', 'pourcentage : 31.69')\n",
      "('first_review', 'pourcentage : 17.36')\n",
      "('last_review', 'pourcentage : 17.33')\n",
      "('review_scores_rating', 'pourcentage : 19.46')\n",
      "('review_scores_accuracy', 'pourcentage : 19.57')\n",
      "('review_scores_cleanliness', 'pourcentage : 19.56')\n",
      "('review_scores_checkin', 'pourcentage : 19.65')\n",
      "('review_scores_communication', 'pourcentage : 19.59')\n",
      "('review_scores_location', 'pourcentage : 19.65')\n",
      "('review_scores_value', 'pourcentage : 19.67')\n",
      "('license', 'pourcentage : 92.74')\n",
      "('jurisdiction_names', 'pourcentage : 100.0')\n",
      "('reviews_per_month', 'pourcentage : 17.36')\n",
      "\n",
      "It contains 0 duplicates.\n"
     ]
    }
   ],
   "source": [
    "print_nan_database(listing_summary)\n",
    "# ... and duplicates\n",
    "print(\"\\nIt contains {} duplicates.\".format(listing_summary.duplicated().sum()))"
   ]
  },
  {
   "cell_type": "markdown",
   "metadata": {},
   "source": [
    "We will be able to remove all attributes whose nan percentage is higher than 40% in this case: 'neighborhood_overview', 'notes', 'transit', 'access', 'interaction', 'house_rules', 'thumbnail_url', 'medium_url', 'xl_picture_url', 'host_acceptance_rate', 'square_feet','host_acceptance_rate', 'square_feet', 'weekly_price', 'monthly_price', 'security_deposit', 'license', 'jurisdiction_names' ne seront pas utilisé "
   ]
  },
  {
   "cell_type": "markdown",
   "metadata": {},
   "source": [
    "We can also remove reviews_per_months because we already have this data in the review database, moreover our model must be based on the example of a newcomer to the site, so it can not influence its reviews_for_months nor its score for the moment. "
   ]
  },
  {
   "cell_type": "code",
   "execution_count": 14,
   "metadata": {
    "scrolled": true
   },
   "outputs": [
    {
     "name": "stdout",
     "output_type": "stream",
     "text": [
      "Features that contain nulls;  \n",
      "\n",
      "\n",
      "\n",
      "It contains 1242 duplicates.\n"
     ]
    }
   ],
   "source": [
    "# value NaN in database \n",
    "print_nan_database(reviews)\n",
    "# ... and duplicates\n",
    "print(\"\\nIt contains {} duplicates.\".format(reviews.duplicated().sum()))"
   ]
  },
  {
   "cell_type": "code",
   "execution_count": 15,
   "metadata": {},
   "outputs": [
    {
     "name": "stdout",
     "output_type": "stream",
     "text": [
      "Features that contain nulls;  \n",
      "\n",
      "\n",
      "('price', 'pourcentage : 78.12')\n",
      "\n",
      "It contains 0 duplicates.\n"
     ]
    }
   ],
   "source": [
    "# value NaN in database \n",
    "print_nan_database(calendar_summary)\n",
    "\n",
    "# ... and duplicates\n",
    "print(\"\\nIt contains {} duplicates.\".format(calendar_summary.duplicated().sum()))"
   ]
  },
  {
   "cell_type": "markdown",
   "metadata": {},
   "source": [
    "The lack of value in the price column can be explained by the fact that the apartments are not available all year round, so there are days when the apartment is not available. "
   ]
  },
  {
   "cell_type": "code",
   "execution_count": 16,
   "metadata": {},
   "outputs": [
    {
     "name": "stdout",
     "output_type": "stream",
     "text": [
      "\n",
      "It contains 0 NaN.\n"
     ]
    }
   ],
   "source": [
    "calendar_summary.groupby(['listing_id'])[['price']]\n",
    "\n",
    "#delete available\n",
    "calendar_summary.drop(['available'], axis = 'columns', inplace = True)\n",
    "# delete Nan \n",
    "calendar_summary.dropna(subset=['price'], inplace=True)\n",
    "print(\"\\nIt contains {} NaN.\".format(calendar_summary.price.isna().sum()))\n"
   ]
  },
  {
   "cell_type": "code",
   "execution_count": 17,
   "metadata": {},
   "outputs": [
    {
     "data": {
      "text/plain": [
       "(11764, 1)"
      ]
     },
     "execution_count": 17,
     "metadata": {},
     "output_type": "execute_result"
    }
   ],
   "source": [
    "calendar_summary.groupby(['listing_id'])[['price']].count().shape\n"
   ]
  },
  {
   "cell_type": "markdown",
   "metadata": {},
   "source": [
    "The number of lines indicates that the number of reservations for which we have a price is 11764.\n",
    "\n",
    "This is only 50% of the number of bookings in the listing_summary database.\n",
    "\n",
    "It seems therefore not possible to use this database to form a price per month for each reservation."
   ]
  },
  {
   "cell_type": "markdown",
   "metadata": {},
   "source": [
    "# Data preparation \n",
    "## select Data \n",
    "### Rationale for inclusion\n",
    "\n",
    "\n",
    "for the project,\n",
    "\n",
    "To analyze the relationship between the characteristics of the house and the price, we will use the listing_summary database.\n",
    "\n",
    "To retrieve the reservation number we will use the reviews_summary."
   ]
  },
  {
   "cell_type": "markdown",
   "metadata": {},
   "source": [
    "#### working listing_summary"
   ]
  },
  {
   "cell_type": "code",
   "execution_count": 18,
   "metadata": {
    "scrolled": true
   },
   "outputs": [
    {
     "name": "stdout",
     "output_type": "stream",
     "text": [
      "id                                    int64\n",
      "cancellation_policy                  object\n",
      "longitude                           float64\n",
      "amenities                            object\n",
      "requires_license                     object\n",
      "instant_bookable                     object\n",
      "guests_included                       int64\n",
      "latitude                            float64\n",
      "extra_people                         object\n",
      "require_guest_phone_verification     object\n",
      "bathrooms                           float64\n",
      "bedrooms                            float64\n",
      "beds                                float64\n",
      "price                                object\n",
      "bed_type                             object\n",
      "accommodates                          int64\n",
      "host_total_listings_count           float64\n",
      "host_has_profile_pic                 object\n",
      "host_identity_verified               object\n",
      "is_location_exact                    object\n",
      "property_type                        object\n",
      "host_is_superhost                    object\n",
      "room_type                            object\n",
      "minimum_nights                        int64\n",
      "dtype: object\n"
     ]
    },
    {
     "data": {
      "text/plain": [
       "(22552, 24)"
      ]
     },
     "execution_count": 18,
     "metadata": {},
     "output_type": "execute_result"
    }
   ],
   "source": [
    "#get important feature\n",
    "get_features = [\"id\", \"cancellation_policy\", \"longitude\", \"amenities\",\"requires_license\",\"instant_bookable\",\n",
    "                \"guests_included\",\"latitude\", \"extra_people\",\"require_guest_phone_verification\",\n",
    "               \"bathrooms\",\"bedrooms\",\"beds\", \"price\", \"bed_type\",\"accommodates\",\"host_total_listings_count\",\"host_has_profile_pic\",\n",
    "               \"host_identity_verified\", \"is_location_exact\",\"property_type\",\"host_is_superhost\",\"room_type\",\"minimum_nights\"]\n",
    "dataset_listings = listing_summary[get_features].copy()\n",
    "print(dataset_listings.dtypes)\n",
    "dataset_listings.shape"
   ]
  },
  {
   "cell_type": "markdown",
   "metadata": {},
   "source": [
    "## Construct data\n",
    "### Derived Attributes"
   ]
  },
  {
   "cell_type": "markdown",
   "metadata": {},
   "source": [
    "The following data is still in object form :\n",
    "- cancellation_policy, amenities, requires_license\n",
    "- instant_bookable, extra_people, require_guest_phone_verification\n",
    "- price, bed_type, host_has_profile_pic, host_has_profile_pic\n",
    "- host_identity_verified, is_location_exact, property_type\n",
    "- host_is_superhost, room_type\n",
    "\n",
    "so we're going to see how we can turn them into digital data"
   ]
  },
  {
   "cell_type": "code",
   "execution_count": 19,
   "metadata": {},
   "outputs": [],
   "source": [
    "data_change = [\"cancellation_policy\", \"amenities\", \"requires_license\",\n",
    "\"instant_bookable\", \"extra_people\", \"require_guest_phone_verification\", \n",
    "\"bed_type\", \"host_has_profile_pic\", \"price\", \"host_has_profile_pic\",\n",
    "\"host_identity_verified\", \"is_location_exact\", \"property_type\",\n",
    "\"host_is_superhost\", \"room_type\"]\n",
    "# data boolean"
   ]
  },
  {
   "cell_type": "markdown",
   "metadata": {},
   "source": [
    "We're going to change the boolean data contained in data change to numeric."
   ]
  },
  {
   "cell_type": "code",
   "execution_count": 20,
   "metadata": {},
   "outputs": [],
   "source": [
    "def object2bool(x):\n",
    "    if x==\"t\" or x==\"T\":\n",
    "        return 1.0\n",
    "    elif x==\"f\" or x==\"F\":\n",
    "        return 0.0\n",
    "    else:\n",
    "        return None\n",
    "\n",
    "\n",
    "boolean_features = [\"require_guest_phone_verification\",\"host_is_superhost\",\"host_has_profile_pic\",\n",
    "                    \"host_identity_verified\",\"is_location_exact\",\"requires_license\",\"instant_bookable\"]\n",
    "\n",
    "\n",
    "for x in boolean_features:\n",
    "    dataset_listings[x] = dataset_listings[x].map(object2bool)"
   ]
  },
  {
   "cell_type": "code",
   "execution_count": 21,
   "metadata": {},
   "outputs": [],
   "source": [
    "for x in boolean_features:\n",
    "    data_change.remove(x)\n",
    "\n",
    "data_change.remove(\"host_has_profile_pic\")"
   ]
  },
  {
   "cell_type": "markdown",
   "metadata": {},
   "source": [
    "let us take care of amenities which represents the list of goods proposed by the host in his reservation \n",
    "\n",
    "as seen above the list has a certain value which is generally found in all the host proposals, the rarer a property is, the more \"general\" properties are found in the list so we can quantify this feature by the number of properties proposed."
   ]
  },
  {
   "cell_type": "code",
   "execution_count": null,
   "metadata": {},
   "outputs": [],
   "source": []
  },
  {
   "cell_type": "markdown",
   "metadata": {},
   "source": [
    "Let's now focus on values and extra_people which are string values that can be changed to float"
   ]
  },
  {
   "cell_type": "code",
   "execution_count": 22,
   "metadata": {},
   "outputs": [],
   "source": [
    "#clean $ sign\n",
    "def clean_price(x):\n",
    "    if ',' in x:\n",
    "        return float(x.replace(\",\", \"\").replace(\"$\",\"\"))\n",
    "        \n",
    "    else:\n",
    "        return float(x.replace(\"$\",\"\"))"
   ]
  },
  {
   "cell_type": "code",
   "execution_count": 23,
   "metadata": {},
   "outputs": [
    {
     "data": {
      "text/plain": [
       "(22552, 24)"
      ]
     },
     "execution_count": 23,
     "metadata": {},
     "output_type": "execute_result"
    },
    {
     "data": {
      "image/png": "[encoded data removed]",
      "text/plain": [
       "<Figure size 1152x144 with 1 Axes>"
      ]
     },
     "metadata": {},
     "output_type": "display_data"
    }
   ],
   "source": [
    "dataset_listings.extra_people = dataset_listings.extra_people.map(clean_price)\n",
    "dataset_listings.price = dataset_listings.price.map(clean_price)\n",
    "data_change.remove(\"extra_people\")\n",
    "data_change.remove(\"price\")\n",
    "\n",
    "red_square = dict(markerfacecolor='r', markeredgecolor='r', marker='.')\n",
    "dataset_listings['price'].plot(kind='box', xlim=(0, 1000), vert=False, flierprops=red_square, figsize=(16,2));\n",
    "dataset_listings.shape"
   ]
  },
  {
   "cell_type": "code",
   "execution_count": null,
   "metadata": {},
   "outputs": [],
   "source": [
    "\n"
   ]
  },
  {
   "cell_type": "markdown",
   "metadata": {},
   "source": [
    "There is too many outleurs in this features, we will take only price below 120 dollars and we're going to remove reservations that are under 20 dollars , which makes more sense. "
   ]
  },
  {
   "cell_type": "code",
   "execution_count": 24,
   "metadata": {},
   "outputs": [],
   "source": [
    "dataset_listings.drop(dataset_listings[ (dataset_listings.price > 120) | (dataset_listings.price < 20) ].index, axis=0, inplace=True)"
   ]
  },
  {
   "cell_type": "code",
   "execution_count": 25,
   "metadata": {},
   "outputs": [
    {
     "data": {
      "text/plain": [
       "(20211, 24)"
      ]
     },
     "execution_count": 25,
     "metadata": {},
     "output_type": "execute_result"
    },
    {
     "data": {
      "image/png": "[encoded data removed]",
      "text/plain": [
       "<Figure size 1152x144 with 1 Axes>"
      ]
     },
     "metadata": {},
     "output_type": "display_data"
    }
   ],
   "source": [
    "red_square = dict(markerfacecolor='r', markeredgecolor='r', marker='.')\n",
    "dataset_listings['price'].plot(kind='box', xlim=(0, 200), vert=False, flierprops=red_square, figsize=(16,2));\n",
    "dataset_listings.shape"
   ]
  },
  {
   "cell_type": "markdown",
   "metadata": {},
   "source": [
    "We will now focus on data with more than 2 values, \n",
    "if the number of possibilities is not too large, we will change. \n",
    "\n",
    "Them in a matrix form that we will add to the base.\n",
    "Otherwise we will remove them. \n"
   ]
  },
  {
   "cell_type": "code",
   "execution_count": 26,
   "metadata": {},
   "outputs": [
    {
     "name": "stdout",
     "output_type": "stream",
     "text": [
      "feature cancellation_policy has value : ['strict_14_with_grace_period' 'moderate' 'flexible' 'super_strict_30'\n",
      " 'super_strict_60']\n",
      "\n",
      "\n",
      "feature amenities has value : ['{TV,\"Cable TV\",Wifi,Kitchen,Gym,Heating,\"Family/kid friendly\",\"Smoke detector\",Essentials,Shampoo,\"Lock on bedroom door\",Hangers,\"Hair dryer\",Iron,\"Laptop friendly workspace\",\"Private living room\",Bathtub,\"Hot water\",\"Bed linens\",\"Extra pillows and blankets\",Microwave,\"Coffee maker\",Refrigerator,Dishwasher,\"Dishes and silverware\",\"Cooking basics\",Stove,\"Luggage dropoff allowed\",\"Long term stays allowed\"}'\n",
      " '{Internet,Wifi,Kitchen,\"Buzzer/wireless intercom\",Heating,\"Family/kid friendly\",Washer,\"Smoke detector\",\"Carbon monoxide detector\",\"First aid kit\",\"Safety card\",\"Fire extinguisher\",Essentials,Shampoo,\"24-hour check-in\",Hangers,\"Hair dryer\",Iron,\"Laptop friendly workspace\"}'\n",
      " '{Internet,Wifi,\"Pets allowed\",\"Pets live on this property\",Cat(s),\"Free street parking\",\"Buzzer/wireless intercom\",Heating,Washer,\"Smoke detector\",\"Carbon monoxide detector\",Essentials,Shampoo,Hangers,\"Hair dryer\",Iron,\"Laptop friendly workspace\",\"translation missing: en.hosting_amenity_49\",\"translation missing: en.hosting_amenity_50\",\"Hot water\",\"Bed linens\",\"Extra pillows and blankets\",Microwave,\"Coffee maker\",Dishwasher,\"Dishes and silverware\",\"Luggage dropoff allowed\",\"Long term stays allowed\",\"Host greets you\"}'\n",
      " ...\n",
      " '{Wifi,Kitchen,Heating,Washer,\"Fire extinguisher\",Essentials,Iron,\"Hot water\"}'\n",
      " '{Wifi,\"Paid parking off premises\",Doorman,Elevator,Heating,\"Family/kid friendly\",\"Smoke detector\",\"Safety card\",\"Fire extinguisher\",Essentials,Shampoo,\"Lock on bedroom door\",Hangers,\"Hair dryer\",Iron,\"Laptop friendly workspace\",\"Self check-in\",\"Building staff\",\"Hot water\"}'\n",
      " '{Wifi,\"Air conditioning\",Kitchen,Breakfast,Heating,Washer,\"Safety card\",Essentials,Shampoo,\"Lock on bedroom door\",Hangers,\"Hair dryer\",\"Laptop friendly workspace\"}']\n",
      "\n",
      "\n",
      "feature bed_type has value : ['Real Bed' 'Pull-out Sofa' 'Couch' 'Futon' 'Airbed']\n",
      "\n",
      "\n",
      "feature property_type has value : ['Guesthouse' 'Apartment' 'Condominium' 'Loft' 'House' 'Townhouse'\n",
      " 'Boutique hotel' 'Bed and breakfast' 'Bungalow' 'Boat' 'Guest suite'\n",
      " 'Other' 'Island' 'Hostel' 'Train' 'Camper/RV' 'Serviced apartment'\n",
      " 'Cabin' 'Cottage' 'Tiny house' 'Chalet' 'Villa' 'Aparthotel' 'Houseboat'\n",
      " 'Hotel' 'Tipi' 'Resort' 'Castle' 'In-law' 'Cave' 'Barn'\n",
      " 'Pension (South Korea)' 'Casa particular (Cuba)']\n",
      "\n",
      "\n",
      "feature room_type has value : ['Entire home/apt' 'Private room' 'Shared room']\n",
      "\n",
      "\n"
     ]
    }
   ],
   "source": [
    "for x in data_change:\n",
    "    print(\"feature {} has value : {}\\n\\n\".format(x,dataset_listings[x].unique()))"
   ]
  },
  {
   "cell_type": "code",
   "execution_count": 27,
   "metadata": {},
   "outputs": [
    {
     "name": "stdout",
     "output_type": "stream",
     "text": [
      "Features that contain nulls;  \n",
      "\n",
      "\n"
     ]
    }
   ],
   "source": [
    "null_col = ['bathrooms', 'bedrooms', 'beds',\n",
    "            'host_total_listings_count', 'host_has_profile_pic',\n",
    "           'host_identity_verified', 'host_is_superhost']\n",
    "# Add the median to the feature with Nan\n",
    "for x in null_col:\n",
    "    med = dataset_listings[x].median()\n",
    "    dataset_listings[x] = dataset_listings[x].fillna(med)\n",
    "print_nan_database(dataset_listings)"
   ]
  },
  {
   "cell_type": "code",
   "execution_count": 28,
   "metadata": {},
   "outputs": [
    {
     "data": {
      "text/plain": [
       "[('Wifi', 19281),\n",
       " ('Kitchen', 19153),\n",
       " ('Heating', 19014),\n",
       " ('Essentials', 18222),\n",
       " ('Washer', 16594),\n",
       " ('Hair dryer', 13240),\n",
       " ('Laptop friendly workspace', 12865),\n",
       " ('Hangers', 12349),\n",
       " ('Iron', 9868),\n",
       " ('Shampoo', 9457),\n",
       " ('TV', 8777),\n",
       " ('Hot water', 8692),\n",
       " ('Family/kid friendly', 7110),\n",
       " ('Internet', 7057),\n",
       " ('Host greets you', 5995),\n",
       " ('Smoke detector', 5532),\n",
       " ('Buzzer/wireless intercom', 5500),\n",
       " ('Lock on bedroom door', 4733),\n",
       " ('Free street parking', 4719),\n",
       " ('Refrigerator', 4610)]"
      ]
     },
     "execution_count": 28,
     "metadata": {},
     "output_type": "execute_result"
    }
   ],
   "source": [
    "results = Counter()\n",
    "dataset_listings['amenities'].str.strip('{}')\\\n",
    "               .str.replace('\"', '')\\\n",
    "               .str.lstrip('\\\"')\\\n",
    "               .str.rstrip('\\\"')\\\n",
    "               .str.split(',')\\\n",
    "               .apply(results.update)\n",
    "results.most_common(20)"
   ]
  },
  {
   "cell_type": "code",
   "execution_count": 29,
   "metadata": {},
   "outputs": [
    {
     "name": "stderr",
     "output_type": "stream",
     "text": [
      "<ipython-input-29-a47bada7a664>:20: SettingWithCopyWarning: \n",
      "A value is trying to be set on a copy of a slice from a DataFrame\n",
      "\n",
      "See the caveats in the documentation: https://pandas.pydata.org/pandas-docs/stable/user_guide/indexing.html#returning-a-view-versus-a-copy\n",
      "  dataset_listings[x][index] = 1\n"
     ]
    }
   ],
   "source": [
    "results = Counter()\n",
    "dataset_listings['amenities'].str.strip('{}')\\\n",
    "               .str.replace('\"', '')\\\n",
    "               .str.lstrip('\\\"')\\\n",
    "               .str.rstrip('\\\"')\\\n",
    "               .str.split(',')\\\n",
    "               .apply(results.update)\n",
    "results.keys()\n",
    "for x in results.keys():\n",
    "    dataset_listings[x] = 0\n",
    "\n",
    "salut = dataset_listings['amenities'].str.strip('{}')\\\n",
    "               .str.replace('\"', '')\\\n",
    "               .str.lstrip('\\\"')\\\n",
    "               .str.rstrip('\\\"')\\\n",
    "               .str.split(',')\n",
    "index = 0\n",
    "for row in salut:\n",
    "    for x in row:\n",
    "        dataset_listings[x][index] = 1\n",
    "    index += 1\n"
   ]
  },
  {
   "cell_type": "code",
   "execution_count": 30,
   "metadata": {},
   "outputs": [],
   "source": [
    "dataset_listings.drop('amenities', 1, inplace = True)"
   ]
  },
  {
   "cell_type": "markdown",
   "metadata": {},
   "source": [
    "property_type contains too many values to be categorized "
   ]
  },
  {
   "cell_type": "code",
   "execution_count": 31,
   "metadata": {},
   "outputs": [
    {
     "data": {
      "text/html": [
       "<div>\n",
       "<style scoped>\n",
       "    .dataframe tbody tr th:only-of-type {\n",
       "        vertical-align: middle;\n",
       "    }\n",
       "\n",
       "    .dataframe tbody tr th {\n",
       "        vertical-align: top;\n",
       "    }\n",
       "\n",
       "    .dataframe thead th {\n",
       "        text-align: right;\n",
       "    }\n",
       "</style>\n",
       "<table border=\"1\" class=\"dataframe\">\n",
       "  <thead>\n",
       "    <tr style=\"text-align: right;\">\n",
       "      <th></th>\n",
       "      <th>id</th>\n",
       "      <th>cancellation_policy</th>\n",
       "      <th>longitude</th>\n",
       "      <th>requires_license</th>\n",
       "      <th>instant_bookable</th>\n",
       "      <th>guests_included</th>\n",
       "      <th>latitude</th>\n",
       "      <th>extra_people</th>\n",
       "      <th>require_guest_phone_verification</th>\n",
       "      <th>bathrooms</th>\n",
       "      <th>...</th>\n",
       "      <th>Toilet paper</th>\n",
       "      <th>Smart TV</th>\n",
       "      <th>Sound system</th>\n",
       "      <th>Breakfast table</th>\n",
       "      <th>Convection oven</th>\n",
       "      <th>Netflix</th>\n",
       "      <th>Bedroom comforts</th>\n",
       "      <th>Bathroom essentials</th>\n",
       "      <th>Ceiling hoist</th>\n",
       "      <th>Kitchenette</th>\n",
       "    </tr>\n",
       "  </thead>\n",
       "  <tbody>\n",
       "    <tr>\n",
       "      <th>0</th>\n",
       "      <td>2015</td>\n",
       "      <td>strict_14_with_grace_period</td>\n",
       "      <td>13.402557</td>\n",
       "      <td>1.0</td>\n",
       "      <td>0.0</td>\n",
       "      <td>1</td>\n",
       "      <td>52.534537</td>\n",
       "      <td>28.0</td>\n",
       "      <td>0.0</td>\n",
       "      <td>1.0</td>\n",
       "      <td>...</td>\n",
       "      <td>0</td>\n",
       "      <td>0</td>\n",
       "      <td>0</td>\n",
       "      <td>0</td>\n",
       "      <td>0</td>\n",
       "      <td>0</td>\n",
       "      <td>0</td>\n",
       "      <td>0</td>\n",
       "      <td>0</td>\n",
       "      <td>0</td>\n",
       "    </tr>\n",
       "    <tr>\n",
       "      <th>2</th>\n",
       "      <td>3176</td>\n",
       "      <td>strict_14_with_grace_period</td>\n",
       "      <td>13.417579</td>\n",
       "      <td>1.0</td>\n",
       "      <td>1.0</td>\n",
       "      <td>2</td>\n",
       "      <td>52.534996</td>\n",
       "      <td>20.0</td>\n",
       "      <td>0.0</td>\n",
       "      <td>1.0</td>\n",
       "      <td>...</td>\n",
       "      <td>0</td>\n",
       "      <td>0</td>\n",
       "      <td>0</td>\n",
       "      <td>0</td>\n",
       "      <td>0</td>\n",
       "      <td>0</td>\n",
       "      <td>0</td>\n",
       "      <td>0</td>\n",
       "      <td>0</td>\n",
       "      <td>0</td>\n",
       "    </tr>\n",
       "    <tr>\n",
       "      <th>3</th>\n",
       "      <td>3309</td>\n",
       "      <td>strict_14_with_grace_period</td>\n",
       "      <td>13.349065</td>\n",
       "      <td>1.0</td>\n",
       "      <td>0.0</td>\n",
       "      <td>1</td>\n",
       "      <td>52.498855</td>\n",
       "      <td>18.0</td>\n",
       "      <td>0.0</td>\n",
       "      <td>1.0</td>\n",
       "      <td>...</td>\n",
       "      <td>0</td>\n",
       "      <td>0</td>\n",
       "      <td>0</td>\n",
       "      <td>0</td>\n",
       "      <td>0</td>\n",
       "      <td>0</td>\n",
       "      <td>0</td>\n",
       "      <td>0</td>\n",
       "      <td>0</td>\n",
       "      <td>0</td>\n",
       "    </tr>\n",
       "    <tr>\n",
       "      <th>4</th>\n",
       "      <td>7071</td>\n",
       "      <td>moderate</td>\n",
       "      <td>13.415091</td>\n",
       "      <td>1.0</td>\n",
       "      <td>0.0</td>\n",
       "      <td>1</td>\n",
       "      <td>52.543157</td>\n",
       "      <td>24.0</td>\n",
       "      <td>0.0</td>\n",
       "      <td>1.0</td>\n",
       "      <td>...</td>\n",
       "      <td>0</td>\n",
       "      <td>0</td>\n",
       "      <td>0</td>\n",
       "      <td>0</td>\n",
       "      <td>0</td>\n",
       "      <td>0</td>\n",
       "      <td>0</td>\n",
       "      <td>0</td>\n",
       "      <td>0</td>\n",
       "      <td>0</td>\n",
       "    </tr>\n",
       "    <tr>\n",
       "      <th>6</th>\n",
       "      <td>14325</td>\n",
       "      <td>strict_14_with_grace_period</td>\n",
       "      <td>13.405562</td>\n",
       "      <td>1.0</td>\n",
       "      <td>0.0</td>\n",
       "      <td>1</td>\n",
       "      <td>52.547846</td>\n",
       "      <td>0.0</td>\n",
       "      <td>0.0</td>\n",
       "      <td>1.0</td>\n",
       "      <td>...</td>\n",
       "      <td>0</td>\n",
       "      <td>0</td>\n",
       "      <td>0</td>\n",
       "      <td>0</td>\n",
       "      <td>0</td>\n",
       "      <td>0</td>\n",
       "      <td>0</td>\n",
       "      <td>0</td>\n",
       "      <td>0</td>\n",
       "      <td>0</td>\n",
       "    </tr>\n",
       "  </tbody>\n",
       "</table>\n",
       "<p>5 rows × 159 columns</p>\n",
       "</div>"
      ],
      "text/plain": [
       "      id          cancellation_policy  longitude  requires_license  \\\n",
       "0   2015  strict_14_with_grace_period  13.402557               1.0   \n",
       "2   3176  strict_14_with_grace_period  13.417579               1.0   \n",
       "3   3309  strict_14_with_grace_period  13.349065               1.0   \n",
       "4   7071                     moderate  13.415091               1.0   \n",
       "6  14325  strict_14_with_grace_period  13.405562               1.0   \n",
       "\n",
       "   instant_bookable  guests_included   latitude  extra_people  \\\n",
       "0               0.0                1  52.534537          28.0   \n",
       "2               1.0                2  52.534996          20.0   \n",
       "3               0.0                1  52.498855          18.0   \n",
       "4               0.0                1  52.543157          24.0   \n",
       "6               0.0                1  52.547846           0.0   \n",
       "\n",
       "   require_guest_phone_verification  bathrooms  ...  Toilet paper  Smart TV  \\\n",
       "0                               0.0        1.0  ...             0         0   \n",
       "2                               0.0        1.0  ...             0         0   \n",
       "3                               0.0        1.0  ...             0         0   \n",
       "4                               0.0        1.0  ...             0         0   \n",
       "6                               0.0        1.0  ...             0         0   \n",
       "\n",
       "   Sound system Breakfast table  Convection oven  Netflix  Bedroom comforts  \\\n",
       "0             0               0                0        0                 0   \n",
       "2             0               0                0        0                 0   \n",
       "3             0               0                0        0                 0   \n",
       "4             0               0                0        0                 0   \n",
       "6             0               0                0        0                 0   \n",
       "\n",
       "   Bathroom essentials  Ceiling hoist Kitchenette  \n",
       "0                    0              0           0  \n",
       "2                    0              0           0  \n",
       "3                    0              0           0  \n",
       "4                    0              0           0  \n",
       "6                    0              0           0  \n",
       "\n",
       "[5 rows x 159 columns]"
      ]
     },
     "execution_count": 31,
     "metadata": {},
     "output_type": "execute_result"
    }
   ],
   "source": [
    "dataset_listings.drop(\"property_type\", axis = 1)\n",
    "dataset_listings.head()\n"
   ]
  },
  {
   "cell_type": "code",
   "execution_count": 32,
   "metadata": {},
   "outputs": [
    {
     "name": "stderr",
     "output_type": "stream",
     "text": [
      "<ipython-input-32-4fad96cdf69b>:4: UserWarning: Pandas doesn't allow columns to be created via a new attribute name - see https://pandas.pydata.org/pandas-docs/stable/indexing.html#attribute-access\n",
      "  value.room_type = pd.Categorical(value[x])\n",
      "C:\\Users\\Utilisateur\\anaconda3\\lib\\site-packages\\pandas\\core\\generic.py:5168: SettingWithCopyWarning: \n",
      "A value is trying to be set on a copy of a slice from a DataFrame.\n",
      "Try using .loc[row_indexer,col_indexer] = value instead\n",
      "\n",
      "See the caveats in the documentation: https://pandas.pydata.org/pandas-docs/stable/user_guide/indexing.html#returning-a-view-versus-a-copy\n",
      "  self[name] = value\n"
     ]
    },
    {
     "data": {
      "text/plain": [
       "(20211, 201)"
      ]
     },
     "execution_count": 32,
     "metadata": {},
     "output_type": "execute_result"
    }
   ],
   "source": [
    "data_change.remove('amenities')\n",
    "for x in data_change:\n",
    "    value = dataset_listings[[x]]\n",
    "    value.room_type = pd.Categorical(value[x])\n",
    "    del dataset_listings[x]\n",
    "    dummies = pd.get_dummies(value, prefix = x)\n",
    "    dataset_listings = pd.concat([dataset_listings, dummies], axis = 1)\n",
    "\n",
    "dataset_listings.shape"
   ]
  },
  {
   "cell_type": "markdown",
   "metadata": {},
   "source": [
    "We will use the longitude and latitude of the reservation to know the distance to the center of berlin."
   ]
  },
  {
   "cell_type": "code",
   "execution_count": null,
   "metadata": {},
   "outputs": [],
   "source": []
  },
  {
   "cell_type": "code",
   "execution_count": 33,
   "metadata": {},
   "outputs": [],
   "source": [
    "def distance_to_mid(lat, lon):\n",
    "    berlin_centre = (52.5027778, 13.404166666666667)\n",
    "    accommodation = (lat, lon)\n",
    "    return great_circle(berlin_centre, accommodation).km"
   ]
  },
  {
   "cell_type": "code",
   "execution_count": 34,
   "metadata": {},
   "outputs": [],
   "source": [
    "dataset_listings['distance'] = dataset_listings.apply(lambda x: distance_to_mid(x.latitude, x.longitude), axis=1)"
   ]
  },
  {
   "cell_type": "code",
   "execution_count": 35,
   "metadata": {},
   "outputs": [],
   "source": [
    "dataset_listings = dataset_listings.drop(['longitude', 'latitude', 'id'], axis = 1)"
   ]
  },
  {
   "cell_type": "code",
   "execution_count": 36,
   "metadata": {},
   "outputs": [],
   "source": [
    "from sklearn.preprocessing import MinMaxScaler\n",
    "scaler = MinMaxScaler()\n"
   ]
  },
  {
   "cell_type": "markdown",
   "metadata": {},
   "source": [
    "## Format Data "
   ]
  },
  {
   "cell_type": "markdown",
   "metadata": {},
   "source": [
    "## reformatted Data\n",
    "\n"
   ]
  },
  {
   "cell_type": "code",
   "execution_count": 44,
   "metadata": {},
   "outputs": [],
   "source": [
    "data_Y=dataset_listings.price\n",
    "data_X=dataset_listings.drop(['price'], axis = 1)\n",
    "X_train, X_test, y_train, y_test = train_test_split(data_X,\n",
    "                                                    data_Y, \n",
    "                                                    test_size=0.33, random_state=1)"
   ]
  },
  {
   "cell_type": "markdown",
   "metadata": {},
   "source": [
    "# Modeling\n",
    "###  Modeling Technique\n"
   ]
  },
  {
   "cell_type": "code",
   "execution_count": 52,
   "metadata": {},
   "outputs": [],
   "source": [
    "\n",
    "gpr = LinearRegression()\n",
    "RN = MLPRegressor()\n",
    "RF = RandomForestRegressor()\n",
    "\n",
    "list_algo = [gpr, RN, RF]\n",
    "list_name_algo = [\"linear\", \"network_neurone\", \"randomForest\" ]"
   ]
  },
  {
   "cell_type": "markdown",
   "metadata": {},
   "source": [
    "# EVALUTION"
   ]
  },
  {
   "cell_type": "code",
   "execution_count": 54,
   "metadata": {},
   "outputs": [
    {
     "name": "stdout",
     "output_type": "stream",
     "text": [
      "linear\n",
      "train score : 0.44\n",
      "test score : 0.41\n"
     ]
    },
    {
     "name": "stderr",
     "output_type": "stream",
     "text": [
      "C:\\Users\\Utilisateur\\anaconda3\\lib\\site-packages\\sklearn\\neural_network\\_multilayer_perceptron.py:582: ConvergenceWarning: Stochastic Optimizer: Maximum iterations (200) reached and the optimization hasn't converged yet.\n",
      "  warnings.warn(\n"
     ]
    },
    {
     "name": "stdout",
     "output_type": "stream",
     "text": [
      "network_neurone\n",
      "train score : 0.56\n",
      "test score : 0.43\n",
      "randomForest\n",
      "train score : 0.92\n",
      "test score : 0.46\n"
     ]
    }
   ],
   "source": [
    "for i in range(3):\n",
    "    list_algo[i].fit(X_train, y_train)\n",
    "    print(\"%s\\ntrain score : %.2f\\ntest score : %.2f\"%(list_name_algo[i], list_algo[i].score(X_train, y_train),\n",
    "                                                list_algo[i].score(X_test, y_test)))\n"
   ]
  },
  {
   "cell_type": "code",
   "execution_count": 56,
   "metadata": {},
   "outputs": [
    {
     "name": "stdout",
     "output_type": "stream",
     "text": [
      "train score : 0.58\n",
      "test score : 0.44\n",
      "Avec une profondeur de 5\n",
      "train score : 0.44\n",
      "test score : 0.42\n",
      "Avec une profondeur de 1000\n",
      "train score : 0.77\n",
      "test score : 0.34\n"
     ]
    }
   ],
   "source": [
    "modele = MLPRegressor(alpha=0.01,solver='adam', max_iter=2000).fit(X_train, y_train)\n",
    "print(\"train score : %.2f\\ntest score : %.2f\"%(modele.score(X_train, y_train),\n",
    "                                                modele.score(X_test, y_test)))\n",
    "\n",
    "modele = MLPRegressor(max_iter=2000, hidden_layer_sizes=(5, )).fit(X_train, y_train)\n",
    "print(\"Avec une profondeur de 5\\ntrain score : %.2f\\ntest score : %.2f\"%(modele.score(X_train, y_train),\n",
    "                                                modele.score(X_test, y_test)))\n",
    "\n",
    "modele = MLPRegressor(max_iter=2000, hidden_layer_sizes=(1000, )).fit(X_train, y_train)\n",
    "print(\"Avec une profondeur de 1000\\ntrain score : %.2f\\ntest score : %.2f\"%(modele.score(X_train, y_train),\n",
    "                                                modele.score(X_test, y_test)))"
   ]
  },
  {
   "cell_type": "code",
   "execution_count": 59,
   "metadata": {},
   "outputs": [
    {
     "name": "stdout",
     "output_type": "stream",
     "text": [
      "pour une profondeur de 19\n",
      "train score : 0.85\n",
      "test score : 0.47\n",
      "pour une profondeur de 20\n",
      "train score : 0.87\n",
      "test score : 0.46\n",
      "pour une profondeur de 21\n",
      "train score : 0.88\n",
      "test score : 0.46\n",
      "pour une profondeur de 22\n",
      "train score : 0.89\n",
      "test score : 0.46\n"
     ]
    }
   ],
   "source": [
    "for i in range(19, 23):\n",
    "    clf = RandomForestRegressor(max_depth=i)\n",
    "    clf.fit(X_train, y_train)\n",
    "    print(\"pour une profondeur de %.0f\\ntrain score : %.2f\\ntest score : %.2f\"%(i, clf.score(X_train, y_train),\n",
    "                                                clf.score(X_test, y_test)))"
   ]
  },
  {
   "cell_type": "markdown",
   "metadata": {},
   "source": [
    "# Deployement"
   ]
  },
  {
   "cell_type": "markdown",
   "metadata": {},
   "source": [
    "The data we obtained can be used to get an evaluation of the price of his property when you start on airbnb.\n",
    "but also with the average of comments per month over the year you can rent your property in periods that are more often requested such as July and September. "
   ]
  },
  {
   "cell_type": "code",
   "execution_count": null,
   "metadata": {},
   "outputs": [],
   "source": [
    "amenities = 5\n",
    "requires_license = 1\n",
    "instant_bookable = 1\n",
    "guests_included = 1\n",
    "extra_people = 10\n",
    "require_guest_phone_verification = 0\n",
    "bathrooms = 1\n",
    "bedrooms = 2\n",
    "beds = 4\n",
    "accomodates = 3\n",
    "host_total_listings_count = 4\n",
    "host_has_profile_pic  = 1\n",
    "host_identity_verified = 1\n",
    "is_location_exact = 1\n",
    "host_is_superhost = 1\n",
    "minimum_nights = 4\n",
    "cancellation = \"cancellation_policy_moderate\"\n",
    "bed_type = \"bed_type_Real Bed\"\n",
    "property_type = \"property_type_Apartment\"\n",
    "room_type = \"room_type_Entire home/apt\"\n",
    "distance =3.52234\n",
    "\n",
    "host = [amenities, requires_license, instant_bookable, guests_included, extra_people,\\\n",
    "    require_guest_phone_verification, bathrooms, bedrooms, beds, accomodates, host_total_listings_count,\\\n",
    "    host_has_profile_pic, host_identity_verified, is_location_exact, host_is_superhost, minimum_nights, \\\n",
    "    0, 0, 0, 0, 0, 0, 0, 0, 0, 0, 0,0,0,0,0,0,0,0,0,0,0,0,0,0,0,0,0,0,0,0,0,0,0,0,0,0,0,0,0,0,0,0,0, 0, 0, 0, \\\n",
    "    distance]\n",
    "\n",
    "host = np.array(host)\n",
    "newdf = pd.DataFrame([host], columns = data_X.columns)\n",
    "newdf[cancellation] = 1\n",
    "newdf[bed_type] = 1\n",
    "newdf[property_type] = 1\n",
    "newdf[room_type] = 1\n",
    "pred = np.array(newdf)"
   ]
  },
  {
   "cell_type": "code",
   "execution_count": null,
   "metadata": {},
   "outputs": [],
   "source": [
    "regr.predict(pred)"
   ]
  },
  {
   "cell_type": "markdown",
   "metadata": {},
   "source": [
    "with this price of 62 $ if our client wants to rent his apartment in September and July, he will be able to get "
   ]
  },
  {
   "cell_type": "code",
   "execution_count": null,
   "metadata": {},
   "outputs": [],
   "source": [
    "sl = count_2018_monthly.groupby('date')['reviews_per_month_18'].mean()\n",
    "review_par_month_september = sl.iloc[8]\n",
    "review_par_month_jully = sl.iloc[6]\n",
    "duration_stay_berlin = 3.5\n",
    "revenues_september = regr.predict(pred) * review_par_month_september * duration_stay_berlin\n",
    "print(revenues_september[0])\n",
    "revenues_jully = regr.predict(pred) * review_par_month_jully * duration_stay_berlin\n",
    "print(revenues_jully[0])"
   ]
  },
  {
   "cell_type": "markdown",
   "metadata": {},
   "source": [
    "he'll get 685 for the month of September \n",
    "and 605 in the month of July "
   ]
  },
  {
   "cell_type": "markdown",
   "metadata": {},
   "source": [
    "### dig deeper"
   ]
  },
  {
   "cell_type": "markdown",
   "metadata": {},
   "source": [
    "We have the appraised price for his house, \n",
    "but there are other parameters that can influence its performance, such as the number of days rented, which can be influenced by its rating on AirBNB."
   ]
  },
  {
   "cell_type": "code",
   "execution_count": null,
   "metadata": {},
   "outputs": [],
   "source": []
  },
  {
   "cell_type": "code",
   "execution_count": null,
   "metadata": {},
   "outputs": [],
   "source": []
  }
 ],
 "metadata": {
  "kernelspec": {
   "display_name": "Python 3",
   "language": "python",
   "name": "python3"
  },
  "language_info": {
   "codemirror_mode": {
    "name": "ipython",
    "version": 3
   },
   "file_extension": ".py",
   "mimetype": "text/x-python",
   "name": "python",
   "nbconvert_exporter": "python",
   "pygments_lexer": "ipython3",
   "version": "3.8.5"
  }
 },
 "nbformat": 4,
 "nbformat_minor": 4
}
